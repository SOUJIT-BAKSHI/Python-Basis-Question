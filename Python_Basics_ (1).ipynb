{
  "nbformat": 4,
  "nbformat_minor": 0,
  "metadata": {
    "colab": {
      "provenance": []
    },
    "kernelspec": {
      "name": "python3",
      "display_name": "Python 3"
    },
    "language_info": {
      "name": "python"
    }
  },
  "cells": [
    {
      "cell_type": "markdown",
      "source": [
        "# Python Basis Question\n",
        "\n",
        "\n",
        "\n",
        "1. What is Python, and why is it popular?\n",
        "    -> Python is a high-level, easy-to-read programming language known for its simplicity, versatility, and large community support.\n",
        "\n",
        "2. What is an interpreter in Python?\n",
        "    ->An interpreter executes Python code line by line, converting it into machine code.\n",
        "\n",
        "3. What are pre-defined keywords in Python?\n",
        "    -> These are reserved words like if, for, while, True, which have special meaning and function in the language.\n",
        "\n",
        "4. Can keywords be used as variable names?\n",
        "    -> No, Python keywords cannot be used as variable names.\n",
        "\n",
        "5. What is mutability in Python?\n",
        "    -> Mutability refers to whether an object can be changed after creation.\n",
        "\n",
        "6. Why are lists mutable, but tuples are immutable?\n",
        "    -> Lists are designed to store changing data, while tuples are meant for fixed data, making them safer and faster.\n",
        "\n",
        "7. What is the difference between “==” and “is” operators in Python?\n",
        "    -> == checks value equality, while is checks object identity (memory location).\n",
        "\n",
        "8. What are logical operators in Python?\n",
        "    -> They are and, or, and not—used to combine or invert boolean expressions.\n",
        "\n",
        "9. What is type casting in Python?\n",
        "    -> It is converting a variable from one data type to another, e.g., int(\"5\").\n",
        "\n",
        "10. What is the difference between implicit and explicit type casting?\n",
        "    -> Implicit is automatic (e.g., int + float → float), while explicit is done manually by the programmer.\n",
        "\n",
        "11. What is the purpose of conditional statements in Python?\n",
        "    -> They control the flow of code based on conditions (if, elif, else).\n",
        "12. How does the elif statement work?\n",
        "    -> elif checks another condition if the previous if condition is false.\n",
        "13. What is the difference between for and while loops?\n",
        "    -> for loops run a fixed number of times; while loops run as long as a condition is true.\n",
        "14. Describe a scenario where a while loop is more suitable than a for loop.\n",
        "    ->When waiting for user input or a condition to be met, such as a login attempt, a while loop is more suitable."
      ],
      "metadata": {
        "id": "rqaQPPNFaeQ7"
      }
    },
    {
      "cell_type": "code",
      "execution_count": null,
      "metadata": {
        "id": "EDvl8b23aVAS",
        "colab": {
          "base_uri": "https://localhost:8080/"
        },
        "outputId": "ad8ac057-9c20-4bbf-bb24-f9f6069cdd00"
      },
      "outputs": [
        {
          "output_type": "stream",
          "name": "stdout",
          "text": [
            "Hello,World\n"
          ]
        }
      ],
      "source": [
        "# 1. Write a Python program to print \"Hello, World!\n",
        "print(\"Hello,World\")\n"
      ]
    },
    {
      "cell_type": "code",
      "source": [
        "#2.  Write a Python program that displays your name and age\n",
        "print(\"name -Soujit bakshi\")\n",
        "print(\"age -22\")"
      ],
      "metadata": {
        "colab": {
          "base_uri": "https://localhost:8080/"
        },
        "id": "t7mGCDTX11tx",
        "outputId": "e947e03e-383c-49bc-ddea-2237a7170b6b"
      },
      "execution_count": null,
      "outputs": [
        {
          "output_type": "stream",
          "name": "stdout",
          "text": [
            "name -Soujit bakshi\n",
            "age -22\n"
          ]
        }
      ]
    },
    {
      "cell_type": "code",
      "source": [
        "#3.  Write code to print all the pre-defined keywords in Python using the keyword library\n",
        "import keyword\n",
        "print(\"Python Keywords:\")\n",
        "print(keyword.kwlist)\n",
        "\n"
      ],
      "metadata": {
        "colab": {
          "base_uri": "https://localhost:8080/"
        },
        "id": "JDiBOaaJjhq3",
        "outputId": "565d6f03-91f2-4f21-dbce-3bf3580882b6"
      },
      "execution_count": null,
      "outputs": [
        {
          "output_type": "stream",
          "name": "stdout",
          "text": [
            "Python Keywords:\n",
            "['False', 'None', 'True', 'and', 'as', 'assert', 'async', 'await', 'break', 'class', 'continue', 'def', 'del', 'elif', 'else', 'except', 'finally', 'for', 'from', 'global', 'if', 'import', 'in', 'is', 'lambda', 'nonlocal', 'not', 'or', 'pass', 'raise', 'return', 'try', 'while', 'with', 'yield']\n"
          ]
        }
      ]
    },
    {
      "cell_type": "markdown",
      "source": [],
      "metadata": {
        "id": "sa0xQrbXax2i"
      }
    },
    {
      "cell_type": "code",
      "source": [
        "#4.Write a program that checks if a given word is a Python keyword.\n",
        "import keyword\n",
        "\n",
        "word = input(\"Enter a word: \")\n",
        "if keyword.iskeyword(word):\n",
        "    print(f\"{word} is a Python keyword.\")\n",
        "else:\n",
        "    print(f\"{word} is not a Python keyword.\")\n"
      ],
      "metadata": {
        "colab": {
          "base_uri": "https://localhost:8080/"
        },
        "id": "Me2gYVvCkPWm",
        "outputId": "2e829495-fe8f-404e-ae0c-83283284173e"
      },
      "execution_count": null,
      "outputs": [
        {
          "output_type": "stream",
          "name": "stdout",
          "text": [
            "Enter a word: is\n",
            "is is a Python keyword.\n"
          ]
        }
      ]
    },
    {
      "cell_type": "markdown",
      "source": [],
      "metadata": {
        "id": "NRCpf6NHanWT"
      }
    },
    {
      "cell_type": "code",
      "source": [
        "#5. Create a list and tuple in Python, and demonstrate how attempting to change an element works differently for each.\n",
        "#creating a list\n",
        "my_list=[1,2,3]\n",
        "print(my_list)\n",
        "my_list[0]=10\n",
        "print(my_list)\n",
        "\n",
        "#creating a tuple\n",
        "my_tuple=(1,2,3)\n",
        "# my_tuple[0] = 10  # This will raise a TypeError\n",
        "print(\"Tuple (unchanged):\\n\",my_tuple)"
      ],
      "metadata": {
        "colab": {
          "base_uri": "https://localhost:8080/"
        },
        "id": "zJS97n9ckZYe",
        "outputId": "112d9682-b0ab-4a35-ed55-724ce88ac936"
      },
      "execution_count": null,
      "outputs": [
        {
          "output_type": "stream",
          "name": "stdout",
          "text": [
            "[1, 2, 3]\n",
            "[10, 2, 3]\n",
            "Tuple (unchanged):\n",
            " (1, 2, 3)\n"
          ]
        }
      ]
    },
    {
      "cell_type": "markdown",
      "source": [],
      "metadata": {
        "id": "kW7j5mVjkgte"
      }
    },
    {
      "cell_type": "code",
      "source": [
        "#6. Write a function to demonstrate the behavior of mutable and immutable arguments.\n",
        "def modify_items(num, lst):\n",
        "    num += 5\n",
        "    lst.append(100)\n",
        "    print(\"Inside function:\", num, lst)\n",
        "\n",
        "a = 10\n",
        "b = [1, 2, 3]\n",
        "modify_items(a, b)\n",
        "print(\"Outside function:\", a, b)\n",
        "\n"
      ],
      "metadata": {
        "colab": {
          "base_uri": "https://localhost:8080/"
        },
        "id": "R25r9OV4khQY",
        "outputId": "f542d7b6-389c-42ce-8054-e79add335bb4"
      },
      "execution_count": null,
      "outputs": [
        {
          "output_type": "stream",
          "name": "stdout",
          "text": [
            "Inside function: 15 [1, 2, 3, 100]\n",
            "Outside function: 10 [1, 2, 3, 100]\n"
          ]
        }
      ]
    },
    {
      "cell_type": "code",
      "source": [
        "#7. Write a program that performs basic arithmetic operations on two user-input numbers.\n",
        "a=int(input(\"Enter your first number:-\"))\n",
        "b=int(input(\"Enter your second number:-\"))\n",
        "print(\"Sum:\", a + b)\n",
        "print(\"Difference:\", a - b)\n",
        "print(\"Product:\", a * b)\n",
        "print(\"Quotient:\", a / b)"
      ],
      "metadata": {
        "colab": {
          "base_uri": "https://localhost:8080/"
        },
        "id": "imdBsmFBl1Qu",
        "outputId": "b6b96c18-3a34-4e7b-de48-5a4f0f044874"
      },
      "execution_count": null,
      "outputs": [
        {
          "output_type": "stream",
          "name": "stdout",
          "text": [
            "Enter your first number:-8\n",
            "Enter your second number:-4\n",
            "Sum: 12\n",
            "Difference: 4\n",
            "Product: 32\n",
            "Quotient: 2.0\n"
          ]
        }
      ]
    },
    {
      "cell_type": "code",
      "source": [
        "#8.Write a program to demonstrate the use of logical operators\n",
        "x = 5\n",
        "y = 10\n",
        "\n",
        "print(x > 3 and y < 20)   # True\n",
        "print(x < 3 or y > 5)     # True\n",
        "print(not(x > y))         # True\n"
      ],
      "metadata": {
        "id": "us9lqHlOl7SF"
      },
      "execution_count": null,
      "outputs": []
    },
    {
      "cell_type": "code",
      "source": [
        "#9.Write a Python program to convert user input from string to integer, float, and boolean types.\n",
        "value=input(\"Enter your value:-\")\n",
        "print(type(value))\n",
        "\n",
        "integer=int(value)\n",
        "print(type(integer))\n",
        "\n",
        "float_=float(integer)\n",
        "print(type(float_))\n",
        "\n",
        "boolean_=bool(float_)\n",
        "print(type(boolean_))"
      ],
      "metadata": {
        "colab": {
          "base_uri": "https://localhost:8080/"
        },
        "id": "Nm9V9ydsl91F",
        "outputId": "f44400c4-0c3a-4e45-df34-ce64c88ca41b"
      },
      "execution_count": null,
      "outputs": [
        {
          "output_type": "stream",
          "name": "stdout",
          "text": [
            "Enter your value:-5\n",
            "<class 'str'>\n",
            "<class 'int'>\n",
            "<class 'float'>\n",
            "<class 'bool'>\n"
          ]
        }
      ]
    },
    {
      "cell_type": "code",
      "source": [
        "#10.Write code to demonstrate type casting with list elements.\n",
        "my_list=[1,2.0,3]\n",
        "print(my_list)\n",
        "print(f\"our list 2nd valu type :-{type(my_list[1])}\")\n",
        "\n",
        "my_list[1]=int(my_list[1])\n",
        "print(f\"now our list 2nd valu type :-{type(my_list[1])}\")\n",
        "print(my_list)"
      ],
      "metadata": {
        "colab": {
          "base_uri": "https://localhost:8080/"
        },
        "id": "xD_MqCqtmAqm",
        "outputId": "7ccfcfb2-e53a-4c48-f872-1b46332cdd6c"
      },
      "execution_count": null,
      "outputs": [
        {
          "output_type": "stream",
          "name": "stdout",
          "text": [
            "[1, 2.0, 3]\n",
            "our list 2nd valu type :-<class 'float'>\n",
            "now our list 2nd valu type :-<class 'int'>\n",
            "[1, 2, 3]\n"
          ]
        }
      ]
    },
    {
      "cell_type": "code",
      "source": [
        "#11.Write code to demonstrate type casting with list elements.\n",
        "for i in range(3):\n",
        "    number = int(input(\"Enter your number: \"))\n",
        "\n",
        "    if number > 0:\n",
        "        print(\"Your number is positive\")\n",
        "\n",
        "    elif number < 0:\n",
        "        print(\"Your number is negative\")\n",
        "\n",
        "    else:\n",
        "        print(\"Your number is zero\")\n"
      ],
      "metadata": {
        "colab": {
          "base_uri": "https://localhost:8080/"
        },
        "id": "uDZPbZ7UmDLl",
        "outputId": "aa1cd469-4e09-4550-b110-d8a2c26dbd06"
      },
      "execution_count": null,
      "outputs": [
        {
          "output_type": "stream",
          "name": "stdout",
          "text": [
            "Enter your number: 0\n",
            "Your number is zero\n",
            "Enter your number: 5\n",
            "Your number is positive\n",
            "Enter your number: -9\n",
            "Your number is negative\n"
          ]
        }
      ]
    },
    {
      "cell_type": "code",
      "source": [
        "#12.Write a for loop to print numbers from 1 to 10.\n",
        "print(\"print 1-to-10 nnumber is :-\\n\")\n",
        "for i in range(11):\n",
        "\n",
        "   print(i)"
      ],
      "metadata": {
        "colab": {
          "base_uri": "https://localhost:8080/"
        },
        "id": "tTHj9-MrmGTF",
        "outputId": "238ab545-ac67-4ad7-bc0e-bea142aa95ff"
      },
      "execution_count": null,
      "outputs": [
        {
          "output_type": "stream",
          "name": "stdout",
          "text": [
            "print 1-to-10 nnumber is :-\n",
            "\n",
            "0\n",
            "1\n",
            "2\n",
            "3\n",
            "4\n",
            "5\n",
            "6\n",
            "7\n",
            "8\n",
            "9\n",
            "10\n"
          ]
        }
      ]
    },
    {
      "cell_type": "code",
      "source": [
        "#13.Write a Python program to find the sum of all even numbers between 1 and 50.\n",
        "s=0\n",
        "for i in range(1,51):\n",
        "  if i % 2 == 0:\n",
        "      s =s+i\n",
        "print(\"Sum of even numbers:\",s)"
      ],
      "metadata": {
        "colab": {
          "base_uri": "https://localhost:8080/"
        },
        "id": "ow9mSaTgmJfG",
        "outputId": "76ad2deb-f16f-4aab-c51b-5eb41e72af7c"
      },
      "execution_count": null,
      "outputs": [
        {
          "output_type": "stream",
          "name": "stdout",
          "text": [
            "Sum of even numbers: 650\n"
          ]
        }
      ]
    },
    {
      "cell_type": "code",
      "source": [
        "#14. Write a program to reverse a string using a while loop.\n",
        "text=input(\"Enter your string :- \")\n",
        "reverse_text=\"\"\n",
        "n=len(text) -1\n",
        "\n",
        "while n>=0:\n",
        "  reverse_text += text[n]\n",
        "  n -= 1\n",
        "print(reverse_text)\n"
      ],
      "metadata": {
        "colab": {
          "base_uri": "https://localhost:8080/"
        },
        "id": "pjd7jEevmLNt",
        "outputId": "ad442544-38f5-4062-bf99-bed236f4fe5c"
      },
      "execution_count": 4,
      "outputs": [
        {
          "output_type": "stream",
          "name": "stdout",
          "text": [
            "Enter your string :- you\n",
            "uoy\n"
          ]
        }
      ]
    },
    {
      "cell_type": "code",
      "source": [
        "#15. Write a Python program to calculate the factorial of a number provided by the user using a while loop.\n",
        "num = int(input(\"Enter a number: \"))\n",
        "factorial = 1\n",
        "i = 1\n",
        "\n",
        "while i <= num:\n",
        "    factorial *= i\n",
        "    i += 1\n",
        "\n",
        "print(\"Factorial:\", factorial)\n"
      ],
      "metadata": {
        "id": "zpj3Y3QBmp8d",
        "colab": {
          "base_uri": "https://localhost:8080/"
        },
        "outputId": "508f0bd7-f18f-4be4-dfb3-da82d7a03315"
      },
      "execution_count": 5,
      "outputs": [
        {
          "output_type": "stream",
          "name": "stdout",
          "text": [
            "Enter a number: 6\n",
            "Factorial: 720\n"
          ]
        }
      ]
    }
  ]
}